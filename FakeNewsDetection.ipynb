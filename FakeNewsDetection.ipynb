{
 "cells": [
  {
   "cell_type": "markdown",
   "id": "11d4bc22",
   "metadata": {},
   "source": [
    "### Fake News Detection"
   ]
  },
  {
   "cell_type": "markdown",
   "id": "30cbc9a3",
   "metadata": {},
   "source": [
    "#### Using ConuntVectorizer and MultinomialNB"
   ]
  },
  {
   "cell_type": "code",
   "execution_count": 5,
   "id": "4c06b48a",
   "metadata": {},
   "outputs": [],
   "source": [
    "import pandas as pd\n",
    "import numpy as np \n",
    "from sklearn.feature_extraction.text import CountVectorizer\n",
    "from sklearn.model_selection import train_test_split \n",
    "from sklearn.naive_bayes import MultinomialNB"
   ]
  },
  {
   "cell_type": "code",
   "execution_count": 38,
   "id": "b7659568",
   "metadata": {},
   "outputs": [
    {
     "data": {
      "text/html": [
       "<div>\n",
       "<style scoped>\n",
       "    .dataframe tbody tr th:only-of-type {\n",
       "        vertical-align: middle;\n",
       "    }\n",
       "\n",
       "    .dataframe tbody tr th {\n",
       "        vertical-align: top;\n",
       "    }\n",
       "\n",
       "    .dataframe thead th {\n",
       "        text-align: right;\n",
       "    }\n",
       "</style>\n",
       "<table border=\"1\" class=\"dataframe\">\n",
       "  <thead>\n",
       "    <tr style=\"text-align: right;\">\n",
       "      <th></th>\n",
       "      <th>Unnamed: 0</th>\n",
       "      <th>title</th>\n",
       "      <th>text</th>\n",
       "      <th>label</th>\n",
       "    </tr>\n",
       "  </thead>\n",
       "  <tbody>\n",
       "    <tr>\n",
       "      <th>0</th>\n",
       "      <td>8476</td>\n",
       "      <td>You Can Smell Hillary’s Fear</td>\n",
       "      <td>Daniel Greenfield, a Shillman Journalism Fello...</td>\n",
       "      <td>FAKE</td>\n",
       "    </tr>\n",
       "    <tr>\n",
       "      <th>1</th>\n",
       "      <td>10294</td>\n",
       "      <td>Watch The Exact Moment Paul Ryan Committed Pol...</td>\n",
       "      <td>Google Pinterest Digg Linkedin Reddit Stumbleu...</td>\n",
       "      <td>FAKE</td>\n",
       "    </tr>\n",
       "    <tr>\n",
       "      <th>2</th>\n",
       "      <td>3608</td>\n",
       "      <td>Kerry to go to Paris in gesture of sympathy</td>\n",
       "      <td>U.S. Secretary of State John F. Kerry said Mon...</td>\n",
       "      <td>REAL</td>\n",
       "    </tr>\n",
       "    <tr>\n",
       "      <th>3</th>\n",
       "      <td>10142</td>\n",
       "      <td>Bernie supporters on Twitter erupt in anger ag...</td>\n",
       "      <td>— Kaydee King (@KaydeeKing) November 9, 2016 T...</td>\n",
       "      <td>FAKE</td>\n",
       "    </tr>\n",
       "    <tr>\n",
       "      <th>4</th>\n",
       "      <td>875</td>\n",
       "      <td>The Battle of New York: Why This Primary Matters</td>\n",
       "      <td>It's primary day in New York and front-runners...</td>\n",
       "      <td>REAL</td>\n",
       "    </tr>\n",
       "  </tbody>\n",
       "</table>\n",
       "</div>"
      ],
      "text/plain": [
       "   Unnamed: 0                                              title  \\\n",
       "0        8476                       You Can Smell Hillary’s Fear   \n",
       "1       10294  Watch The Exact Moment Paul Ryan Committed Pol...   \n",
       "2        3608        Kerry to go to Paris in gesture of sympathy   \n",
       "3       10142  Bernie supporters on Twitter erupt in anger ag...   \n",
       "4         875   The Battle of New York: Why This Primary Matters   \n",
       "\n",
       "                                                text label  \n",
       "0  Daniel Greenfield, a Shillman Journalism Fello...  FAKE  \n",
       "1  Google Pinterest Digg Linkedin Reddit Stumbleu...  FAKE  \n",
       "2  U.S. Secretary of State John F. Kerry said Mon...  REAL  \n",
       "3  — Kaydee King (@KaydeeKing) November 9, 2016 T...  FAKE  \n",
       "4  It's primary day in New York and front-runners...  REAL  "
      ]
     },
     "execution_count": 38,
     "metadata": {},
     "output_type": "execute_result"
    }
   ],
   "source": [
    "data = pd.read_csv(\"fake_or_real_news.csv\")\n",
    "data.head()"
   ]
  },
  {
   "cell_type": "code",
   "execution_count": 9,
   "id": "ace53f3f",
   "metadata": {},
   "outputs": [
    {
     "data": {
      "text/plain": [
       "Unnamed: 0    0\n",
       "title         0\n",
       "text          0\n",
       "label         0\n",
       "dtype: int64"
      ]
     },
     "execution_count": 9,
     "metadata": {},
     "output_type": "execute_result"
    }
   ],
   "source": [
    "# Check if there are no missing value\n",
    "data.isnull().sum()"
   ]
  },
  {
   "cell_type": "code",
   "execution_count": 12,
   "id": "b62be33c",
   "metadata": {},
   "outputs": [],
   "source": [
    "x=np.array(data[\"title\"])\n",
    "y=np.array(data[\"label\"])\n",
    "\n",
    "cv=CountVectorizer()\n",
    "x=cv.fit_transform(x)"
   ]
  },
  {
   "cell_type": "code",
   "execution_count": 15,
   "id": "c233822a",
   "metadata": {},
   "outputs": [
    {
     "data": {
      "text/plain": [
       "0.8074191002367798"
      ]
     },
     "execution_count": 15,
     "metadata": {},
     "output_type": "execute_result"
    }
   ],
   "source": [
    "# Separate the dataset into traing and testing sets\n",
    "xtrain, xtest, ytrain, ytest = train_test_split(x,y,test_size=0.2, random_state=42)\n",
    "# Train the model(Multinomial Naive algorithm)\n",
    "model=MultinomialNB()\n",
    "model.fit(xtrain, ytrain)\n",
    "# Check the score\n",
    "model.score(xtest, ytest)\n"
   ]
  },
  {
   "cell_type": "code",
   "execution_count": 26,
   "id": "13b0f668",
   "metadata": {},
   "outputs": [],
   "source": [
    "# Make function for detecting fake news\n",
    "def fake_detect(headline):\n",
    "    data=cv.transform([headline]).toarray()\n",
    "    result =model.predict(data)\n",
    "    return result[0]"
   ]
  },
  {
   "cell_type": "code",
   "execution_count": 27,
   "id": "5e543fe7",
   "metadata": {},
   "outputs": [
    {
     "data": {
      "text/plain": [
       "'REAL'"
      ]
     },
     "execution_count": 27,
     "metadata": {},
     "output_type": "execute_result"
    }
   ],
   "source": [
    "# Test the model for real news (https://www.bbc.com/news/business-59353194)\n",
    "fake_detect(\"US to release oil reserves in bid to lower prices\")"
   ]
  },
  {
   "cell_type": "code",
   "execution_count": 28,
   "id": "c9f2718b",
   "metadata": {},
   "outputs": [
    {
     "data": {
      "text/plain": [
       "'REAL'"
      ]
     },
     "execution_count": 28,
     "metadata": {},
     "output_type": "execute_result"
    }
   ],
   "source": [
    "# Test the model for fake news (https://www.snopes.com/fact-check/pope-francis-donald-trump-endorsement/)\n",
    "fake_detect(\"Pope Francis shocks world, endorses Donald Trump for president\")"
   ]
  },
  {
   "cell_type": "code",
   "execution_count": 29,
   "id": "65fc8e47",
   "metadata": {},
   "outputs": [
    {
     "data": {
      "text/plain": [
       "'FAKE'"
      ]
     },
     "execution_count": 29,
     "metadata": {},
     "output_type": "execute_result"
    }
   ],
   "source": [
    "# Test the model for fake news (https://www.foxnews.com/food-drink/us-bacon-reserves-hit-50-year-low)\n",
    "fake_detect(\"US Bacon Reserves Hit 50 Year Low\")"
   ]
  },
  {
   "cell_type": "markdown",
   "id": "b7e7cd87",
   "metadata": {},
   "source": [
    "#### Using TfidfVectorizer and PassiveAgressiveClassifer"
   ]
  },
  {
   "cell_type": "code",
   "execution_count": 33,
   "id": "4e933c49",
   "metadata": {},
   "outputs": [],
   "source": [
    "import numpy as np\n",
    "import pandas as pd\n",
    "import itertools\n",
    "from sklearn.model_selection import train_test_split \n",
    "from sklearn.feature_extraction.text import TfidfVectorizer\n",
    "from sklearn.linear_model import PassiveAggressiveClassifier\n",
    "from sklearn.metrics import accuracy_score, confusion_matrix"
   ]
  },
  {
   "cell_type": "code",
   "execution_count": 41,
   "id": "06e9aac6",
   "metadata": {},
   "outputs": [
    {
     "data": {
      "text/plain": [
       "0    FAKE\n",
       "1    FAKE\n",
       "2    REAL\n",
       "3    FAKE\n",
       "4    REAL\n",
       "Name: label, dtype: object"
      ]
     },
     "execution_count": 41,
     "metadata": {},
     "output_type": "execute_result"
    }
   ],
   "source": [
    "labels=data.label\n",
    "labels.head()"
   ]
  },
  {
   "cell_type": "code",
   "execution_count": 55,
   "id": "bd293ed3",
   "metadata": {},
   "outputs": [],
   "source": [
    "# Separate the dataset into traing and testing sets\n",
    "x_train2,x_test2,y_train2, y_test2 = train_test_split(data['text'], labels, test_size=0.2, random_state=7)"
   ]
  },
  {
   "cell_type": "code",
   "execution_count": 56,
   "id": "eacaa9c2",
   "metadata": {},
   "outputs": [],
   "source": [
    "#Initialize a TfidfVectorizer \n",
    "tf_v = TfidfVectorizer(stop_words='english', max_df=0.7)\n",
    "tf_v_train = tf_v.fit_transform(x_train2)\n",
    "tf_v_test=tf_v.transform(x_test2)"
   ]
  },
  {
   "cell_type": "code",
   "execution_count": 59,
   "id": "1c07b9fa",
   "metadata": {},
   "outputs": [
    {
     "data": {
      "text/plain": [
       "PassiveAggressiveClassifier(max_iter=50)"
      ]
     },
     "execution_count": 59,
     "metadata": {},
     "output_type": "execute_result"
    }
   ],
   "source": [
    "#Initialize PassiveAgressive\n",
    "pac=PassiveAggressiveClassifier(max_iter=50)\n",
    "pac.fit(tf_v_train,y_train2)"
   ]
  },
  {
   "cell_type": "code",
   "execution_count": 63,
   "id": "629ad8f4",
   "metadata": {},
   "outputs": [
    {
     "name": "stdout",
     "output_type": "stream",
     "text": [
      "Accuracy:92.98%\n"
     ]
    }
   ],
   "source": [
    "y_pred=pac.predict(tf_v_test)\n",
    "score=accuracy_score(y_test,y_pred)\n",
    "print(f'Accuracy:{round(score*100,2)}%')"
   ]
  },
  {
   "cell_type": "code",
   "execution_count": null,
   "id": "e6ce2ec9",
   "metadata": {},
   "outputs": [],
   "source": []
  },
  {
   "cell_type": "markdown",
   "id": "d11a2f65",
   "metadata": {},
   "source": [
    "#### Source\n",
    "https://towardsdatascience.com/basics-of-countvectorizer-e26677900f9c\n",
    "\n",
    "https://thecleverprogrammer.com/2021/06/30/fake-news-detection-with-machine-learning/\n",
    "\n",
    "https://data-flair.training/blogs/advanced-python-project-detecting-fake-news/\n"
   ]
  },
  {
   "cell_type": "markdown",
   "id": "d88ef9fa",
   "metadata": {},
   "source": [
    "\n",
    "https://thecleverprogrammer.com/2021/07/09/end-to-end-fake-news-detection-with-python/\n",
    "    "
   ]
  }
 ],
 "metadata": {
  "kernelspec": {
   "display_name": "Python 3 (ipykernel)",
   "language": "python",
   "name": "python3"
  },
  "language_info": {
   "codemirror_mode": {
    "name": "ipython",
    "version": 3
   },
   "file_extension": ".py",
   "mimetype": "text/x-python",
   "name": "python",
   "nbconvert_exporter": "python",
   "pygments_lexer": "ipython3",
   "version": "3.9.7"
  }
 },
 "nbformat": 4,
 "nbformat_minor": 5
}
